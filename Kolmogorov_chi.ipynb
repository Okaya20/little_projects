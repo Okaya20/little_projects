{
 "cells": [
  {
   "cell_type": "code",
   "execution_count": 22,
   "id": "089eaf04",
   "metadata": {},
   "outputs": [],
   "source": [
    "import numpy as np\n",
    "import pandas as pd\n",
    "from scipy.stats import kstest\n",
    "from scipy.stats import ksone\n",
    "from scipy.stats import chi2\n",
    "\n",
    "\n",
    "def ks_critical_value(n_trials, alpha):\n",
    "    return ksone.ppf(1-alpha/2, n_trials)"
   ]
  },
  {
   "cell_type": "code",
   "execution_count": 23,
   "id": "6b48352f",
   "metadata": {},
   "outputs": [],
   "source": [
    "data =  np.array([0.94, 0.87, 0.63, 0.66, 0.30, 0.69, 0.37, 0.01, 0.66, 0.51, 0.92, 0.36, 0.47, 0.80, 0.94, 0.31, 0.07, 0.09, 0.19, 0.29, 0.30, 0.94, 0.87, 0.85, 0.66, 0.78, 0.94, 0.56, 0.67, 0.07, 0.43, 0.37, 0.39, 0.46, 0.16, 0.74, 0.82, 0.31, 0.18, 0.04\n",
    "])\n",
    "#data = np.array([0.05, 0.14 ,0.44 ,0.81, 0.93])"
   ]
  },
  {
   "cell_type": "code",
   "execution_count": 3,
   "id": "8b856f56",
   "metadata": {},
   "outputs": [],
   "source": [
    "def ks_critical_value(n_trials, alpha):\n",
    "    return ksone.ppf(1-alpha/2, n_trials)"
   ]
  },
  {
   "cell_type": "code",
   "execution_count": 4,
   "id": "f612477f",
   "metadata": {},
   "outputs": [
    {
     "data": {
      "text/plain": [
       "0.5632751983660634"
      ]
     },
     "execution_count": 4,
     "metadata": {},
     "output_type": "execute_result"
    }
   ],
   "source": [
    "ks_critical_value(5,0.05)"
   ]
  },
  {
   "cell_type": "code",
   "execution_count": 5,
   "id": "67d51aaf",
   "metadata": {},
   "outputs": [],
   "source": [
    "def ks_critical_value(n_trials, alpha):\n",
    "    return ksone.ppf(1-alpha/2, n_trials)\n",
    "\n",
    "def cum_prob(N):\n",
    "    prob = [i*1/N for i in range(1,N+1)]\n",
    "    return prob\n",
    "    \n",
    "def cum_prob_big(N):\n",
    "    prob = [i/N for i in range(0,N)]\n",
    "    return prob\n",
    "\n",
    "\n",
    "def kolmogorov(data,alpha):\n",
    "    #sort data\n",
    "    data2 = sorted(data)\n",
    "    N = len(data)\n",
    "    İN = cum_prob(N)\n",
    "    Dplus = np.array(İN) - np.array(data2)\n",
    "    Dplus = np.where(Dplus < 0 , 0,Dplus)\n",
    "    İNminus = cum_prob_big(N)\n",
    "    Dminus = np.array(data2) - np.array(İNminus) \n",
    "    Dminus = np.where(Dminus < 0 ,0 ,Dminus)\n",
    "    D=np.maximum(Dplus,Dminus).max()\n",
    "    crt_val = ks_critical_value(N,alpha)\n",
    "    texts = [\"Fail to Reject H0\",\"Reject H0\"]\n",
    "    return (D,texts[0] if D < crt_val else texts[1])\n",
    "    \n",
    "    "
   ]
  },
  {
   "cell_type": "code",
   "execution_count": 6,
   "id": "f06f8af5",
   "metadata": {},
   "outputs": [
    {
     "data": {
      "text/plain": [
       "[0.2, 0.4, 0.6, 0.8, 1.0]"
      ]
     },
     "execution_count": 6,
     "metadata": {},
     "output_type": "execute_result"
    }
   ],
   "source": [
    "cum_prob(5)"
   ]
  },
  {
   "cell_type": "code",
   "execution_count": 11,
   "id": "4ad86299",
   "metadata": {},
   "outputs": [],
   "source": [
    "data = [0.93,0.44,0.05,0.14,0.81]"
   ]
  },
  {
   "cell_type": "code",
   "execution_count": 8,
   "id": "2cbc8451",
   "metadata": {},
   "outputs": [
    {
     "data": {
      "text/plain": [
       "(0.26, 'Fail to Reject H0')"
      ]
     },
     "execution_count": 8,
     "metadata": {},
     "output_type": "execute_result"
    }
   ],
   "source": [
    "kolmogorov(data,0.05)"
   ]
  },
  {
   "cell_type": "code",
   "execution_count": 9,
   "id": "a1f5701e",
   "metadata": {},
   "outputs": [],
   "source": [
    "#ÖNEMLİ n = bir grupta kaç tane olucak\n",
    "def chisquare(data,n,alpha=0.05):\n",
    "    N = len(data)\n",
    "    interval = 1/(N/n)\n",
    "    interval_num = 1/interval\n",
    "    interval_num = int(interval_num)\n",
    "    data2 = np.array(sorted(data))\n",
    "    counts = []\n",
    "    for i in range(1,interval_num+1):\n",
    "        counts.append(np.where((data2 >=(i-1)*interval) & (data2 <i*interval))[0].size)\n",
    "    chiscore = (((np.array(counts) - n)**2)/n).sum()\n",
    "    crt_val = chi2.ppf(1 - alpha, interval_num - 1)\n",
    "    texts = [\"Fail to Reject H0\",\"Reject H0\"]\n",
    "    return (chiscore,interval,interval_num,counts, texts[0] if chiscore < crt_val else texts[1])\n",
    "    \n",
    "    "
   ]
  },
  {
   "cell_type": "code",
   "execution_count": 10,
   "id": "6791fc60",
   "metadata": {},
   "outputs": [
    {
     "data": {
      "text/plain": [
       "(0.0, 2.0, 0, [], 'Reject H0')"
      ]
     },
     "execution_count": 10,
     "metadata": {},
     "output_type": "execute_result"
    }
   ],
   "source": [
    "chisquare(data,10)"
   ]
  },
  {
   "cell_type": "code",
   "execution_count": null,
   "id": "03c1eaca",
   "metadata": {},
   "outputs": [],
   "source": []
  },
  {
   "cell_type": "code",
   "execution_count": null,
   "id": "ce591a1c",
   "metadata": {},
   "outputs": [],
   "source": []
  },
  {
   "cell_type": "code",
   "execution_count": null,
   "id": "98387674",
   "metadata": {},
   "outputs": [],
   "source": []
  },
  {
   "cell_type": "code",
   "execution_count": null,
   "id": "f4b884e2",
   "metadata": {},
   "outputs": [],
   "source": []
  },
  {
   "cell_type": "code",
   "execution_count": null,
   "id": "070fe839",
   "metadata": {},
   "outputs": [],
   "source": [
    "\n"
   ]
  },
  {
   "cell_type": "code",
   "execution_count": null,
   "id": "b49078ab",
   "metadata": {},
   "outputs": [],
   "source": []
  },
  {
   "cell_type": "code",
   "execution_count": null,
   "id": "600fe77a",
   "metadata": {},
   "outputs": [],
   "source": []
  }
 ],
 "metadata": {
  "kernelspec": {
   "display_name": "Python 3 (ipykernel)",
   "language": "python",
   "name": "python3"
  },
  "language_info": {
   "codemirror_mode": {
    "name": "ipython",
    "version": 3
   },
   "file_extension": ".py",
   "mimetype": "text/x-python",
   "name": "python",
   "nbconvert_exporter": "python",
   "pygments_lexer": "ipython3",
   "version": "3.7.16"
  }
 },
 "nbformat": 4,
 "nbformat_minor": 5
}
